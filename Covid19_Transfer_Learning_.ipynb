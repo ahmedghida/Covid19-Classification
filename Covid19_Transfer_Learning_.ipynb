{
  "nbformat": 4,
  "nbformat_minor": 0,
  "metadata": {
    "colab": {
      "provenance": []
    },
    "kernelspec": {
      "name": "python3",
      "display_name": "Python 3"
    },
    "language_info": {
      "name": "python"
    },
    "gpuClass": "standard",
    "accelerator": "GPU"
  },
  "cells": [
    {
      "cell_type": "markdown",
      "source": [
        "# 1.1 Setup a Folder:\n",
        "\n",
        "---\n",
        "\n",
        "\n",
        "\n",
        "\n"
      ],
      "metadata": {
        "id": "Wr4spMSLf1xp"
      }
    },
    {
      "cell_type": "code",
      "execution_count": null,
      "metadata": {
        "id": "KhS3w73kfdZC",
        "colab": {
          "base_uri": "https://localhost:8080/"
        },
        "outputId": "597f266b-1e02-4570-87e1-6cc5f6218712"
      },
      "outputs": [
        {
          "output_type": "stream",
          "name": "stdout",
          "text": [
            "Mounted at /content/drive\n",
            "/content/drive/MyDrive\n"
          ]
        }
      ],
      "source": [
        "from google.colab import drive\n",
        "drive.mount('/content/drive')\n",
        "%cd drive/MyDrive"
      ]
    },
    {
      "cell_type": "code",
      "source": [
        "import os\n",
        "if not os.path.isdir(\"Covid19\"):\n",
        "  os.makedirs(\"Covid19\")\n",
        "%cd Covid19"
      ],
      "metadata": {
        "id": "SJ4BM6rWf2H3",
        "colab": {
          "base_uri": "https://localhost:8080/"
        },
        "outputId": "5149df0a-984e-4eb4-84fd-4b00227d5625"
      },
      "execution_count": null,
      "outputs": [
        {
          "output_type": "stream",
          "name": "stdout",
          "text": [
            "/content/drive/MyDrive/Covid19\n"
          ]
        }
      ]
    },
    {
      "cell_type": "markdown",
      "source": [
        "## 1.2 Donwloading DataSet:\n",
        "\n",
        "---\n",
        "\n",
        "\n",
        "\n"
      ],
      "metadata": {
        "id": "6i3Njxwrf2To"
      }
    },
    {
      "cell_type": "code",
      "source": [
        "!pip install opendatasets\n",
        "import opendatasets as od\n",
        "if not os.path.isdir(\"covid19-chest-xray-image-dataset\"):\n",
        "  od.download(\"https://www.kaggle.com/datasets/alifrahman/covid19-chest-xray-image-dataset\")"
      ],
      "metadata": {
        "id": "F2sbgNVmf2ov",
        "colab": {
          "base_uri": "https://localhost:8080/"
        },
        "outputId": "17387b5a-f652-48b8-8fa2-6cf682d8dd7a"
      },
      "execution_count": null,
      "outputs": [
        {
          "output_type": "stream",
          "name": "stdout",
          "text": [
            "Looking in indexes: https://pypi.org/simple, https://us-python.pkg.dev/colab-wheels/public/simple/\n",
            "Collecting opendatasets\n",
            "  Downloading opendatasets-0.1.22-py3-none-any.whl (15 kB)\n",
            "Requirement already satisfied: click in /usr/local/lib/python3.8/dist-packages (from opendatasets) (8.1.3)\n",
            "Requirement already satisfied: tqdm in /usr/local/lib/python3.8/dist-packages (from opendatasets) (4.64.1)\n",
            "Requirement already satisfied: kaggle in /usr/local/lib/python3.8/dist-packages (from opendatasets) (1.5.12)\n",
            "Requirement already satisfied: requests in /usr/local/lib/python3.8/dist-packages (from kaggle->opendatasets) (2.25.1)\n",
            "Requirement already satisfied: certifi in /usr/local/lib/python3.8/dist-packages (from kaggle->opendatasets) (2022.12.7)\n",
            "Requirement already satisfied: python-dateutil in /usr/local/lib/python3.8/dist-packages (from kaggle->opendatasets) (2.8.2)\n",
            "Requirement already satisfied: python-slugify in /usr/local/lib/python3.8/dist-packages (from kaggle->opendatasets) (8.0.1)\n",
            "Requirement already satisfied: urllib3 in /usr/local/lib/python3.8/dist-packages (from kaggle->opendatasets) (1.26.14)\n",
            "Requirement already satisfied: six>=1.10 in /usr/local/lib/python3.8/dist-packages (from kaggle->opendatasets) (1.15.0)\n",
            "Requirement already satisfied: text-unidecode>=1.3 in /usr/local/lib/python3.8/dist-packages (from python-slugify->kaggle->opendatasets) (1.3)\n",
            "Requirement already satisfied: idna<3,>=2.5 in /usr/local/lib/python3.8/dist-packages (from requests->kaggle->opendatasets) (2.10)\n",
            "Requirement already satisfied: chardet<5,>=3.0.2 in /usr/local/lib/python3.8/dist-packages (from requests->kaggle->opendatasets) (4.0.0)\n",
            "Installing collected packages: opendatasets\n",
            "Successfully installed opendatasets-0.1.22\n",
            "Please provide your Kaggle credentials to download this dataset. Learn more: http://bit.ly/kaggle-creds\n",
            "Your Kaggle username: ahmedghida\n",
            "Your Kaggle Key: ··········\n",
            "Downloading covid19-chest-xray-image-dataset.zip to ./covid19-chest-xray-image-dataset\n"
          ]
        },
        {
          "output_type": "stream",
          "name": "stderr",
          "text": [
            "100%|██████████| 40.6M/40.6M [00:01<00:00, 21.8MB/s]\n"
          ]
        },
        {
          "output_type": "stream",
          "name": "stdout",
          "text": [
            "\n"
          ]
        }
      ]
    },
    {
      "cell_type": "markdown",
      "source": [
        "## 2.1 Exploring & Visualize The Data:\n",
        "\n",
        "---\n",
        "\n",
        "\n",
        "\n",
        "\n"
      ],
      "metadata": {
        "id": "MPwCVkd2f3GX"
      }
    },
    {
      "cell_type": "code",
      "source": [
        "for directory in (os.listdir('covid19-chest-xray-image-dataset/dataset')):\n",
        "      print(f\"The Number Of {directory} Images: \"+str(len((os.listdir(f'covid19-chest-xray-image-dataset/dataset/{directory}')))))"
      ],
      "metadata": {
        "id": "MbSgrzK_f30X",
        "colab": {
          "base_uri": "https://localhost:8080/"
        },
        "outputId": "d9900492-ae2e-4957-c578-f9173e9ffc37"
      },
      "execution_count": null,
      "outputs": [
        {
          "output_type": "stream",
          "name": "stdout",
          "text": [
            "The Number Of covid Images: 69\n",
            "The Number Of normal Images: 25\n"
          ]
        }
      ]
    },
    {
      "cell_type": "code",
      "source": [
        "import numpy as np\n",
        "import matplotlib.pyplot as plt\n",
        "plt.figure(figsize=(15,8))\n",
        "for number,folder in enumerate(os.listdir('covid19-chest-xray-image-dataset/dataset')):\n",
        "  names=os.listdir('covid19-chest-xray-image-dataset/dataset/'+folder)\n",
        "  indx=np.random.randint(len(names))\n",
        "  img=plt.imread(f\"covid19-chest-xray-image-dataset/dataset/{folder}/{str(names[indx])}\")\n",
        "  plt.subplot(1,4,number+1)\n",
        "  plt.imshow(img,cmap=\"gray\")\n",
        "  plt.title(str(folder))\n",
        "  plt.axis('off')"
      ],
      "metadata": {
        "id": "9uL33nr1f4LX",
        "colab": {
          "base_uri": "https://localhost:8080/",
          "height": 206
        },
        "outputId": "75b32282-632e-45a6-f49a-900447cc8523"
      },
      "execution_count": null,
      "outputs": [
        {
          "output_type": "display_data",
          "data": {
            "text/plain": [
              "<Figure size 1080x576 with 2 Axes>"
            ],
            "image/png": "[encoded data removed]"
          },
          "metadata": {
            "needs_background": "light"
          }
        }
      ]
    },
    {
      "cell_type": "markdown",
      "source": [
        "splitting data\n"
      ],
      "metadata": {
        "id": "QbysGgEMTPwN"
      }
    },
    {
      "cell_type": "code",
      "source": [
        "covid=os.listdir(\"covid19-chest-xray-image-dataset/dataset/covid\")\n",
        "normal=os.listdir(\"covid19-chest-xray-image-dataset/dataset/normal\")\n",
        "x,y=[],[]\n",
        "for i in covid:\n",
        "  x.append(i)\n",
        "  y.append(1)\n",
        "for i in normal:\n",
        "  x.append(i)\n",
        "  y.append(0)"
      ],
      "metadata": {
        "id": "7jaGjrSGTmfM"
      },
      "execution_count": null,
      "outputs": []
    },
    {
      "cell_type": "code",
      "source": [
        "from sklearn.model_selection import train_test_split\n",
        "xtrain,xtest,ytrain,ytest=train_test_split(x,y,test_size=.1,shuffle=True)"
      ],
      "metadata": {
        "id": "3W3Vlm_bTmZU"
      },
      "execution_count": null,
      "outputs": []
    },
    {
      "cell_type": "code",
      "source": [
        "import shutil as sh \n",
        "from tqdm import tqdm\n",
        "\n",
        "for i in tqdm(x):\n",
        "  if i in covid:\n",
        "    folder='covid'\n",
        "  else:\n",
        "    folder='normal'\n",
        "  if i in xtrain:\n",
        "    path2save='Train'\n",
        "  else:\n",
        "    path2save='Test'\n",
        "  if not os.path.exists(f\"covid19-chest-xray-image-dataset/{path2save}/{folder}\"):\n",
        "         os.makedirs(f\"covid19-chest-xray-image-dataset/{path2save}/{folder}\")\n",
        "  sh.move(f\"covid19-chest-xray-image-dataset/dataset/{folder}/{i}\",f\"covid19-chest-xray-image-dataset/{path2save}/{folder}/{i}\")  \n",
        "\n",
        "sh.rmtree(\"covid19-chest-xray-image-dataset/dataset\")\n",
        "print(\"****File named dataset was deleted****\")"
      ],
      "metadata": {
        "id": "g3E0eTZDWf_b",
        "colab": {
          "base_uri": "https://localhost:8080/"
        },
        "outputId": "48a217d6-924f-4c02-daef-49b3c69e19c6"
      },
      "execution_count": null,
      "outputs": [
        {
          "output_type": "stream",
          "name": "stderr",
          "text": [
            "100%|██████████| 94/94 [00:00<00:00, 391.08it/s]"
          ]
        },
        {
          "output_type": "stream",
          "name": "stdout",
          "text": [
            "****File named dataset was deleted****\n"
          ]
        },
        {
          "output_type": "stream",
          "name": "stderr",
          "text": [
            "\n"
          ]
        }
      ]
    },
    {
      "cell_type": "markdown",
      "source": [
        "##2.2 Data Augmentation & Loading :\n",
        "---\n"
      ],
      "metadata": {
        "id": "yZTLZuN7f4mP"
      }
    },
    {
      "cell_type": "code",
      "source": [
        "from keras.preprocessing.image import ImageDataGenerator\n",
        "Size=150\n",
        "B_size=4\n",
        "Training_path='covid19-chest-xray-image-dataset/Train'\n",
        "train_datagen=ImageDataGenerator(rotation_range=10,\n",
        "    width_shift_range=0.1,\n",
        "    height_shift_range=0.1,\n",
        "    shear_range=0.2,\n",
        "    zoom_range=0.2,\n",
        "    horizontal_flip=True,\n",
        "    fill_mode='nearest',\n",
        "    rescale=1./255)\n",
        "train_generator=train_datagen.flow_from_directory(Training_path,\n",
        "    class_mode='binary',\n",
        "    color_mode='grayscale',\n",
        "    batch_size=B_size,\n",
        "    target_size=(Size,Size))"
      ],
      "metadata": {
        "id": "BlqdgfK2f4_v",
        "colab": {
          "base_uri": "https://localhost:8080/"
        },
        "outputId": "b45d47b2-bfc4-4313-95a6-3d2079ee9e6b"
      },
      "execution_count": null,
      "outputs": [
        {
          "output_type": "stream",
          "name": "stdout",
          "text": [
            "Found 84 images belonging to 2 classes.\n"
          ]
        }
      ]
    },
    {
      "cell_type": "code",
      "source": [
        "#Viz Data From Generator\n",
        "Image,Y=next(train_generator)\n",
        "plt.imshow(Image[0],cmap=\"gray\")\n",
        "plt.title(\"Label: \"+str(Y[0]))\n",
        "plt.axis('off')"
      ],
      "metadata": {
        "id": "sreaa2vLf5bv",
        "colab": {
          "base_uri": "https://localhost:8080/",
          "height": 281
        },
        "outputId": "b900f38f-16af-41ca-972b-07a4e405c160"
      },
      "execution_count": null,
      "outputs": [
        {
          "output_type": "execute_result",
          "data": {
            "text/plain": [
              "(-0.5, 149.5, 149.5, -0.5)"
            ]
          },
          "metadata": {},
          "execution_count": 12
        },
        {
          "output_type": "display_data",
          "data": {
            "text/plain": [
              "<Figure size 432x288 with 1 Axes>"
            ],
            "image/png": "[encoded data removed]"
          },
          "metadata": {
            "needs_background": "light"
          }
        }
      ]
    },
    {
      "cell_type": "markdown",
      "source": [
        "# 3.1 Loading The Model:\n",
        "\n",
        "---\n",
        "we will make Transfer Learning from Pneumonia Model Classification\n",
        "That Will Helps.\n",
        "https://colab.research.google.com/drive/18G9oYcIhnQl_7N7rCaOLuOvgXzQWQnq3?usp=sharing"
      ],
      "metadata": {
        "id": "5FmJXDlFf6Jv"
      }
    },
    {
      "cell_type": "code",
      "source": [
        "from tensorflow.keras.models import load_model\n",
        "from tensorflow.keras.metrics import Precision,Recall\n",
        "from tensorflow.keras.callbacks import EarlyStopping, ReduceLROnPlateau, ModelCheckpoint"
      ],
      "metadata": {
        "id": "LdyZ4z7af58n"
      },
      "execution_count": null,
      "outputs": []
    },
    {
      "cell_type": "code",
      "source": [
        "model=load_model(\"/content/drive/MyDrive/Pneumonia/pnemonia.hdf5\")\n",
        "#freezing layers:\n",
        "for layer in model.layers[:-5]:\n",
        "  layer.trainable=False\n",
        "model.summary()"
      ],
      "metadata": {
        "id": "VZDDPUi0f6hI",
        "colab": {
          "base_uri": "https://localhost:8080/"
        },
        "outputId": "369dfb73-22b9-4c30-9aad-3a9652bdd911"
      },
      "execution_count": null,
      "outputs": [
        {
          "output_type": "stream",
          "name": "stdout",
          "text": [
            "Model: \"sequential\"\n",
            "_________________________________________________________________\n",
            " Layer (type)                Output Shape              Param #   \n",
            "=================================================================\n",
            " separable_conv2d (Separable  (None, 148, 148, 64)     137       \n",
            " Conv2D)                                                         \n",
            "                                                                 \n",
            " separable_conv2d_1 (Separab  (None, 146, 146, 64)     4736      \n",
            " leConv2D)                                                       \n",
            "                                                                 \n",
            " max_pooling2d (MaxPooling2D  (None, 73, 73, 64)       0         \n",
            " )                                                               \n",
            "                                                                 \n",
            " separable_conv2d_2 (Separab  (None, 71, 71, 32)       2656      \n",
            " leConv2D)                                                       \n",
            "                                                                 \n",
            " separable_conv2d_3 (Separab  (None, 69, 69, 32)       1344      \n",
            " leConv2D)                                                       \n",
            "                                                                 \n",
            " max_pooling2d_1 (MaxPooling  (None, 34, 34, 32)       0         \n",
            " 2D)                                                             \n",
            "                                                                 \n",
            " flatten (Flatten)           (None, 36992)             0         \n",
            "                                                                 \n",
            " dense (Dense)               (None, 128)               4735104   \n",
            "                                                                 \n",
            " dropout (Dropout)           (None, 128)               0         \n",
            "                                                                 \n",
            " dense_1 (Dense)             (None, 64)                8256      \n",
            "                                                                 \n",
            " dense_2 (Dense)             (None, 1)                 65        \n",
            "                                                                 \n",
            "=================================================================\n",
            "Total params: 4,752,298\n",
            "Trainable params: 4,743,425\n",
            "Non-trainable params: 8,873\n",
            "_________________________________________________________________\n"
          ]
        }
      ]
    },
    {
      "cell_type": "code",
      "source": [
        "#model compilation:\n",
        "model.compile(optimizer =\"adam\",loss='binary_crossentropy',metrics= ['accuracy', Precision(name='percesion'),Recall(name='recall')])"
      ],
      "metadata": {
        "id": "jhpDRyjXhH7X"
      },
      "execution_count": null,
      "outputs": []
    },
    {
      "cell_type": "markdown",
      "source": [
        "# 3.2 Trainning:\n",
        "\n",
        "---\n"
      ],
      "metadata": {
        "id": "0n1khxGmf7ev"
      }
    },
    {
      "cell_type": "code",
      "source": [
        "epoch=100\n",
        "steps=int(len(train_generator))\n",
        "history=model.fit(train_generator,\n",
        "                  epochs=epoch,\n",
        "                  steps_per_epoch=steps)"
      ],
      "metadata": {
        "id": "Y7ahveWZf8G_",
        "colab": {
          "base_uri": "https://localhost:8080/"
        },
        "outputId": "9b00d178-ba40-4f48-95c6-55220018ab30"
      },
      "execution_count": null,
      "outputs": [
        {
          "output_type": "stream",
          "name": "stdout",
          "text": [
            "Epoch 1/100\n",
            "11/11 [==============================] - 5s 219ms/step - loss: 1.6163 - accuracy: 0.5000 - percesion: 0.0000e+00 - recall: 0.0000e+00\n",
            "Epoch 2/100\n",
            "11/11 [==============================] - 3s 222ms/step - loss: 0.8212 - accuracy: 0.6786 - percesion: 0.3000 - recall: 0.1304\n",
            "Epoch 3/100\n",
            "11/11 [==============================] - 3s 229ms/step - loss: 0.6915 - accuracy: 0.6786 - percesion: 0.1667 - recall: 0.0435\n",
            "Epoch 4/100\n",
            "11/11 [==============================] - 3s 259ms/step - loss: 0.6015 - accuracy: 0.7143 - percesion: 0.4444 - recall: 0.1739\n",
            "Epoch 5/100\n",
            "11/11 [==============================] - 3s 235ms/step - loss: 0.5590 - accuracy: 0.7500 - percesion: 0.5833 - recall: 0.3043\n",
            "Epoch 6/100\n",
            "11/11 [==============================] - 3s 246ms/step - loss: 0.4808 - accuracy: 0.8095 - percesion: 0.8182 - recall: 0.3913\n",
            "Epoch 7/100\n",
            "11/11 [==============================] - 3s 236ms/step - loss: 0.4524 - accuracy: 0.8452 - percesion: 0.7778 - recall: 0.6087\n",
            "Epoch 8/100\n",
            "11/11 [==============================] - 3s 270ms/step - loss: 0.3649 - accuracy: 0.8214 - percesion: 0.7857 - recall: 0.4783\n",
            "Epoch 9/100\n",
            "11/11 [==============================] - 4s 320ms/step - loss: 0.3967 - accuracy: 0.8333 - percesion: 0.9091 - recall: 0.4348\n",
            "Epoch 10/100\n",
            "11/11 [==============================] - 3s 244ms/step - loss: 0.3639 - accuracy: 0.8690 - percesion: 0.8750 - recall: 0.6087\n",
            "Epoch 11/100\n",
            "11/11 [==============================] - 3s 242ms/step - loss: 0.3520 - accuracy: 0.8929 - percesion: 0.9375 - recall: 0.6522\n",
            "Epoch 12/100\n",
            "11/11 [==============================] - 3s 243ms/step - loss: 0.3659 - accuracy: 0.8690 - percesion: 0.8750 - recall: 0.6087\n",
            "Epoch 13/100\n",
            "11/11 [==============================] - 3s 321ms/step - loss: 0.2339 - accuracy: 0.9048 - percesion: 0.9412 - recall: 0.6957\n",
            "Epoch 14/100\n",
            "11/11 [==============================] - 3s 239ms/step - loss: 0.2605 - accuracy: 0.8929 - percesion: 0.8500 - recall: 0.7391\n",
            "Epoch 15/100\n",
            "11/11 [==============================] - 3s 240ms/step - loss: 0.3281 - accuracy: 0.8571 - percesion: 0.8235 - recall: 0.6087\n",
            "Epoch 16/100\n",
            "11/11 [==============================] - 3s 300ms/step - loss: 0.2342 - accuracy: 0.9048 - percesion: 0.8947 - recall: 0.7391\n",
            "Epoch 17/100\n",
            "11/11 [==============================] - 3s 243ms/step - loss: 0.2095 - accuracy: 0.9048 - percesion: 0.8000 - recall: 0.8696\n",
            "Epoch 18/100\n",
            "11/11 [==============================] - 3s 246ms/step - loss: 0.2810 - accuracy: 0.8810 - percesion: 0.8824 - recall: 0.6522\n",
            "Epoch 19/100\n",
            "11/11 [==============================] - 3s 241ms/step - loss: 0.3026 - accuracy: 0.9048 - percesion: 0.8947 - recall: 0.7391\n",
            "Epoch 20/100\n",
            "11/11 [==============================] - 3s 308ms/step - loss: 0.2074 - accuracy: 0.9286 - percesion: 1.0000 - recall: 0.7391\n",
            "Epoch 21/100\n",
            "11/11 [==============================] - 3s 240ms/step - loss: 0.2625 - accuracy: 0.8929 - percesion: 0.8500 - recall: 0.7391\n",
            "Epoch 22/100\n",
            "11/11 [==============================] - 3s 235ms/step - loss: 0.1364 - accuracy: 0.9762 - percesion: 1.0000 - recall: 0.9130\n",
            "Epoch 23/100\n",
            "11/11 [==============================] - 3s 239ms/step - loss: 0.1824 - accuracy: 0.9167 - percesion: 0.9000 - recall: 0.7826\n",
            "Epoch 24/100\n",
            "11/11 [==============================] - 3s 306ms/step - loss: 0.1786 - accuracy: 0.9167 - percesion: 0.9000 - recall: 0.7826\n",
            "Epoch 25/100\n",
            "11/11 [==============================] - 3s 290ms/step - loss: 0.1434 - accuracy: 0.9643 - percesion: 1.0000 - recall: 0.8696\n",
            "Epoch 26/100\n",
            "11/11 [==============================] - 3s 245ms/step - loss: 0.1447 - accuracy: 0.9286 - percesion: 1.0000 - recall: 0.7391\n",
            "Epoch 27/100\n",
            "11/11 [==============================] - 3s 244ms/step - loss: 0.1617 - accuracy: 0.9167 - percesion: 0.8077 - recall: 0.9130\n",
            "Epoch 28/100\n",
            "11/11 [==============================] - 3s 260ms/step - loss: 0.2177 - accuracy: 0.9167 - percesion: 0.9444 - recall: 0.7391\n",
            "Epoch 29/100\n",
            "11/11 [==============================] - 4s 350ms/step - loss: 0.1684 - accuracy: 0.9167 - percesion: 0.9000 - recall: 0.7826\n",
            "Epoch 30/100\n",
            "11/11 [==============================] - 3s 253ms/step - loss: 0.2388 - accuracy: 0.9167 - percesion: 0.9444 - recall: 0.7391\n",
            "Epoch 31/100\n",
            "11/11 [==============================] - 3s 247ms/step - loss: 0.1955 - accuracy: 0.9167 - percesion: 0.9000 - recall: 0.7826\n",
            "Epoch 32/100\n",
            "11/11 [==============================] - 3s 237ms/step - loss: 0.1559 - accuracy: 0.9405 - percesion: 0.9091 - recall: 0.8696\n",
            "Epoch 33/100\n",
            "11/11 [==============================] - 3s 255ms/step - loss: 0.1372 - accuracy: 0.9524 - percesion: 0.9524 - recall: 0.8696\n",
            "Epoch 34/100\n",
            "11/11 [==============================] - 3s 231ms/step - loss: 0.1131 - accuracy: 0.9643 - percesion: 1.0000 - recall: 0.8696\n",
            "Epoch 35/100\n",
            "11/11 [==============================] - 3s 301ms/step - loss: 0.1184 - accuracy: 0.9643 - percesion: 0.9167 - recall: 0.9565\n",
            "Epoch 36/100\n",
            "11/11 [==============================] - 3s 279ms/step - loss: 0.1542 - accuracy: 0.9405 - percesion: 0.8462 - recall: 0.9565\n",
            "Epoch 37/100\n",
            "11/11 [==============================] - 4s 333ms/step - loss: 0.1905 - accuracy: 0.9286 - percesion: 1.0000 - recall: 0.7391\n",
            "Epoch 38/100\n",
            "11/11 [==============================] - 3s 244ms/step - loss: 0.1271 - accuracy: 0.9524 - percesion: 0.9130 - recall: 0.9130\n",
            "Epoch 39/100\n",
            "11/11 [==============================] - 3s 229ms/step - loss: 0.1486 - accuracy: 0.9524 - percesion: 0.9130 - recall: 0.9130\n",
            "Epoch 40/100\n",
            "11/11 [==============================] - 3s 236ms/step - loss: 0.1324 - accuracy: 0.9405 - percesion: 0.8462 - recall: 0.9565\n",
            "Epoch 41/100\n",
            "11/11 [==============================] - 4s 333ms/step - loss: 0.2233 - accuracy: 0.9286 - percesion: 1.0000 - recall: 0.7391\n",
            "Epoch 42/100\n",
            "11/11 [==============================] - 3s 259ms/step - loss: 0.0988 - accuracy: 0.9762 - percesion: 1.0000 - recall: 0.9130\n",
            "Epoch 43/100\n",
            "11/11 [==============================] - 3s 232ms/step - loss: 0.1274 - accuracy: 0.9643 - percesion: 0.9545 - recall: 0.9130\n",
            "Epoch 44/100\n",
            "11/11 [==============================] - 3s 245ms/step - loss: 0.0915 - accuracy: 0.9643 - percesion: 1.0000 - recall: 0.8696\n",
            "Epoch 45/100\n",
            "11/11 [==============================] - 3s 227ms/step - loss: 0.0956 - accuracy: 0.9643 - percesion: 0.9167 - recall: 0.9565\n",
            "Epoch 46/100\n",
            "11/11 [==============================] - 4s 358ms/step - loss: 0.1492 - accuracy: 0.9524 - percesion: 0.9524 - recall: 0.8696\n",
            "Epoch 47/100\n",
            "11/11 [==============================] - 3s 250ms/step - loss: 0.1152 - accuracy: 0.9643 - percesion: 0.9545 - recall: 0.9130\n",
            "Epoch 48/100\n",
            "11/11 [==============================] - 3s 241ms/step - loss: 0.1755 - accuracy: 0.9405 - percesion: 1.0000 - recall: 0.7826\n",
            "Epoch 49/100\n",
            "11/11 [==============================] - 3s 236ms/step - loss: 0.1123 - accuracy: 0.9643 - percesion: 1.0000 - recall: 0.8696\n",
            "Epoch 50/100\n",
            "11/11 [==============================] - 3s 282ms/step - loss: 0.1409 - accuracy: 0.9524 - percesion: 0.8519 - recall: 1.0000\n",
            "Epoch 51/100\n",
            "11/11 [==============================] - 3s 241ms/step - loss: 0.0812 - accuracy: 0.9643 - percesion: 1.0000 - recall: 0.8696\n",
            "Epoch 52/100\n",
            "11/11 [==============================] - 3s 219ms/step - loss: 0.0858 - accuracy: 0.9643 - percesion: 0.9545 - recall: 0.9130\n",
            "Epoch 53/100\n",
            "11/11 [==============================] - 3s 219ms/step - loss: 0.1158 - accuracy: 0.9524 - percesion: 0.9524 - recall: 0.8696\n",
            "Epoch 54/100\n",
            "11/11 [==============================] - 3s 303ms/step - loss: 0.0437 - accuracy: 0.9881 - percesion: 1.0000 - recall: 0.9565\n",
            "Epoch 55/100\n",
            "11/11 [==============================] - 3s 305ms/step - loss: 0.0632 - accuracy: 0.9762 - percesion: 0.9565 - recall: 0.9565\n",
            "Epoch 56/100\n",
            "11/11 [==============================] - 3s 228ms/step - loss: 0.1744 - accuracy: 0.9524 - percesion: 0.8800 - recall: 0.9565\n",
            "Epoch 57/100\n",
            "11/11 [==============================] - 3s 234ms/step - loss: 0.0437 - accuracy: 0.9762 - percesion: 0.9565 - recall: 0.9565\n",
            "Epoch 58/100\n",
            "11/11 [==============================] - 3s 249ms/step - loss: 0.0427 - accuracy: 0.9881 - percesion: 1.0000 - recall: 0.9565\n",
            "Epoch 59/100\n",
            "11/11 [==============================] - 4s 342ms/step - loss: 0.1195 - accuracy: 0.9405 - percesion: 0.9500 - recall: 0.8261\n",
            "Epoch 60/100\n",
            "11/11 [==============================] - 3s 239ms/step - loss: 0.1314 - accuracy: 0.9643 - percesion: 0.9167 - recall: 0.9565\n",
            "Epoch 61/100\n",
            "11/11 [==============================] - 3s 245ms/step - loss: 0.0680 - accuracy: 0.9881 - percesion: 0.9583 - recall: 1.0000\n",
            "Epoch 62/100\n",
            "11/11 [==============================] - 3s 241ms/step - loss: 0.0920 - accuracy: 0.9643 - percesion: 1.0000 - recall: 0.8696\n",
            "Epoch 63/100\n",
            "11/11 [==============================] - 3s 270ms/step - loss: 0.1379 - accuracy: 0.9405 - percesion: 0.9500 - recall: 0.8261\n",
            "Epoch 64/100\n",
            "11/11 [==============================] - 4s 328ms/step - loss: 0.0993 - accuracy: 0.9286 - percesion: 0.9048 - recall: 0.8261\n",
            "Epoch 65/100\n",
            "11/11 [==============================] - 3s 245ms/step - loss: 0.0676 - accuracy: 0.9643 - percesion: 0.9167 - recall: 0.9565\n",
            "Epoch 66/100\n",
            "11/11 [==============================] - 3s 228ms/step - loss: 0.1182 - accuracy: 0.9762 - percesion: 0.9200 - recall: 1.0000\n",
            "Epoch 67/100\n",
            "11/11 [==============================] - 3s 235ms/step - loss: 0.1245 - accuracy: 0.9524 - percesion: 0.9524 - recall: 0.8696\n",
            "Epoch 68/100\n",
            "11/11 [==============================] - 3s 321ms/step - loss: 0.0828 - accuracy: 0.9881 - percesion: 1.0000 - recall: 0.9565\n",
            "Epoch 69/100\n",
            "11/11 [==============================] - 3s 293ms/step - loss: 0.1269 - accuracy: 0.9048 - percesion: 0.8947 - recall: 0.7391\n",
            "Epoch 70/100\n",
            "11/11 [==============================] - 3s 237ms/step - loss: 0.1236 - accuracy: 0.9524 - percesion: 0.9130 - recall: 0.9130\n",
            "Epoch 71/100\n",
            "11/11 [==============================] - 3s 239ms/step - loss: 0.0452 - accuracy: 0.9881 - percesion: 1.0000 - recall: 0.9565\n",
            "Epoch 72/100\n",
            "11/11 [==============================] - 4s 353ms/step - loss: 0.0588 - accuracy: 0.9762 - percesion: 0.9565 - recall: 0.9565\n",
            "Epoch 73/100\n",
            "11/11 [==============================] - 3s 261ms/step - loss: 0.1353 - accuracy: 0.9524 - percesion: 0.9524 - recall: 0.8696\n",
            "Epoch 74/100\n",
            "11/11 [==============================] - 3s 227ms/step - loss: 0.0686 - accuracy: 0.9762 - percesion: 0.9565 - recall: 0.9565\n",
            "Epoch 75/100\n",
            "11/11 [==============================] - 3s 231ms/step - loss: 0.0837 - accuracy: 0.9643 - percesion: 0.8846 - recall: 1.0000\n",
            "Epoch 76/100\n",
            "11/11 [==============================] - 3s 256ms/step - loss: 0.1022 - accuracy: 0.9405 - percesion: 0.9091 - recall: 0.8696\n",
            "Epoch 77/100\n",
            "11/11 [==============================] - 3s 223ms/step - loss: 0.1135 - accuracy: 0.9643 - percesion: 1.0000 - recall: 0.8696\n",
            "Epoch 78/100\n",
            "11/11 [==============================] - 3s 241ms/step - loss: 0.0324 - accuracy: 1.0000 - percesion: 1.0000 - recall: 1.0000\n",
            "Epoch 79/100\n",
            "11/11 [==============================] - 3s 243ms/step - loss: 0.0753 - accuracy: 0.9643 - percesion: 0.9545 - recall: 0.9130\n",
            "Epoch 80/100\n",
            "11/11 [==============================] - 3s 277ms/step - loss: 0.1375 - accuracy: 0.9643 - percesion: 0.9545 - recall: 0.9130\n",
            "Epoch 81/100\n",
            "11/11 [==============================] - 3s 299ms/step - loss: 0.0565 - accuracy: 1.0000 - percesion: 1.0000 - recall: 1.0000\n",
            "Epoch 82/100\n",
            "11/11 [==============================] - 3s 240ms/step - loss: 0.0507 - accuracy: 0.9881 - percesion: 0.9583 - recall: 1.0000\n",
            "Epoch 83/100\n",
            "11/11 [==============================] - 3s 233ms/step - loss: 0.0661 - accuracy: 0.9762 - percesion: 0.9565 - recall: 0.9565\n",
            "Epoch 84/100\n",
            "11/11 [==============================] - 3s 254ms/step - loss: 0.0669 - accuracy: 0.9762 - percesion: 1.0000 - recall: 0.9130\n",
            "Epoch 85/100\n",
            "11/11 [==============================] - 3s 315ms/step - loss: 0.0383 - accuracy: 1.0000 - percesion: 1.0000 - recall: 1.0000\n",
            "Epoch 86/100\n",
            "11/11 [==============================] - 3s 283ms/step - loss: 0.0225 - accuracy: 1.0000 - percesion: 1.0000 - recall: 1.0000\n",
            "Epoch 87/100\n",
            "11/11 [==============================] - 3s 249ms/step - loss: 0.0444 - accuracy: 0.9762 - percesion: 0.9200 - recall: 1.0000\n",
            "Epoch 88/100\n",
            "11/11 [==============================] - 3s 230ms/step - loss: 0.0563 - accuracy: 0.9643 - percesion: 0.9167 - recall: 0.9565\n",
            "Epoch 89/100\n",
            "11/11 [==============================] - 3s 242ms/step - loss: 0.0298 - accuracy: 0.9881 - percesion: 1.0000 - recall: 0.9565\n",
            "Epoch 90/100\n",
            "11/11 [==============================] - 3s 248ms/step - loss: 0.1887 - accuracy: 0.9405 - percesion: 0.9500 - recall: 0.8261\n",
            "Epoch 91/100\n",
            "11/11 [==============================] - 3s 246ms/step - loss: 0.1187 - accuracy: 0.9524 - percesion: 0.9130 - recall: 0.9130\n",
            "Epoch 92/100\n",
            "11/11 [==============================] - 3s 243ms/step - loss: 0.1343 - accuracy: 0.9524 - percesion: 0.9130 - recall: 0.9130\n",
            "Epoch 93/100\n",
            "11/11 [==============================] - 3s 284ms/step - loss: 0.0368 - accuracy: 0.9881 - percesion: 1.0000 - recall: 0.9565\n",
            "Epoch 94/100\n",
            "11/11 [==============================] - 3s 304ms/step - loss: 0.0527 - accuracy: 0.9762 - percesion: 0.9565 - recall: 0.9565\n",
            "Epoch 95/100\n",
            "11/11 [==============================] - 3s 238ms/step - loss: 0.1886 - accuracy: 0.9643 - percesion: 1.0000 - recall: 0.8696\n",
            "Epoch 96/100\n",
            "11/11 [==============================] - 3s 247ms/step - loss: 0.1054 - accuracy: 0.9643 - percesion: 0.9167 - recall: 0.9565\n",
            "Epoch 97/100\n",
            "11/11 [==============================] - 3s 241ms/step - loss: 0.0899 - accuracy: 0.9643 - percesion: 0.9545 - recall: 0.9130\n",
            "Epoch 98/100\n",
            "11/11 [==============================] - 4s 332ms/step - loss: 0.0492 - accuracy: 0.9881 - percesion: 0.9583 - recall: 1.0000\n",
            "Epoch 99/100\n",
            "11/11 [==============================] - 3s 240ms/step - loss: 0.1222 - accuracy: 0.9524 - percesion: 0.9130 - recall: 0.9130\n",
            "Epoch 100/100\n",
            "11/11 [==============================] - 3s 232ms/step - loss: 0.0374 - accuracy: 0.9881 - percesion: 1.0000 - recall: 0.9565\n"
          ]
        }
      ]
    },
    {
      "cell_type": "markdown",
      "source": [
        "# 3.3 Evaluating & Predicting:\n",
        "\n",
        "---\n"
      ],
      "metadata": {
        "id": "nS1n6zJvhonu"
      }
    },
    {
      "cell_type": "code",
      "source": [
        "Testing_path='covid19-chest-xray-image-dataset/Test'\n",
        "test_datagen=ImageDataGenerator(rescale=1./255)\n",
        "test_generator=test_datagen.flow_from_directory(Testing_path,\n",
        "    class_mode='binary',\n",
        "    color_mode='grayscale',\n",
        "    batch_size=B_size,\n",
        "    target_size=(Size,Size))"
      ],
      "metadata": {
        "id": "jTj-wM66f8pv",
        "colab": {
          "base_uri": "https://localhost:8080/"
        },
        "outputId": "636d63b7-e6fa-482d-b4f6-44f50f9af265"
      },
      "execution_count": null,
      "outputs": [
        {
          "output_type": "stream",
          "name": "stdout",
          "text": [
            "Found 10 images belonging to 2 classes.\n"
          ]
        }
      ]
    },
    {
      "cell_type": "code",
      "source": [
        "model.evaluate(test_generator,steps=len(test_generator))"
      ],
      "metadata": {
        "colab": {
          "base_uri": "https://localhost:8080/"
        },
        "id": "7LoSZB_XTKOL",
        "outputId": "f8339d09-3b5c-4255-bc73-56fa30cddb35"
      },
      "execution_count": null,
      "outputs": [
        {
          "output_type": "stream",
          "name": "stdout",
          "text": [
            "2/2 [==============================] - 1s 79ms/step - loss: 0.0163 - accuracy: 1.0000 - percesion: 1.0000 - recall: 1.0000\n"
          ]
        },
        {
          "output_type": "execute_result",
          "data": {
            "text/plain": [
              "[0.016311723738908768, 1.0, 1.0, 1.0]"
            ]
          },
          "metadata": {},
          "execution_count": 37
        }
      ]
    },
    {
      "cell_type": "code",
      "source": [
        "model.save(\"Covid19.hdf5\")"
      ],
      "metadata": {
        "id": "N1I7iVNeV1ri"
      },
      "execution_count": null,
      "outputs": []
    }
  ]
}